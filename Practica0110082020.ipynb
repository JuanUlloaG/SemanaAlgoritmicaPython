{
  "nbformat": 4,
  "nbformat_minor": 0,
  "metadata": {
    "colab": {
      "name": "Practica0110082020.ipynb",
      "provenance": [],
      "authorship_tag": "ABX9TyMIHClxQssnUi8jyrsj4HU8",
      "include_colab_link": true
    },
    "kernelspec": {
      "name": "python3",
      "display_name": "Python 3"
    }
  },
  "cells": [
    {
      "cell_type": "markdown",
      "metadata": {
        "id": "view-in-github",
        "colab_type": "text"
      },
      "source": [
        "<a href=\"https://colab.research.google.com/github/JonAbaroa/Semana-Algoritmica-Curso/blob/master/Practica0110082020.ipynb\" target=\"_parent\"><img src=\"https://colab.research.google.com/assets/colab-badge.svg\" alt=\"Open In Colab\"/></a>"
      ]
    },
    {
      "cell_type": "code",
      "metadata": {
        "id": "EziLH9hMLPkX",
        "colab_type": "code",
        "colab": {}
      },
      "source": [
        ""
      ],
      "execution_count": null,
      "outputs": []
    },
    {
      "cell_type": "markdown",
      "metadata": {
        "id": "TEnIprG5NR5O",
        "colab_type": "text"
      },
      "source": [
        "Aplicar conceptos - Variables"
      ]
    },
    {
      "cell_type": "code",
      "metadata": {
        "id": "dQVEedTcOZif",
        "colab_type": "code",
        "colab": {
          "base_uri": "https://localhost:8080/",
          "height": 34
        },
        "outputId": "47cfdea0-e033-4ac4-c688-c1d7c9aafcd6"
      },
      "source": [
        "val1 = 1\n",
        "val2 = 2\n",
        "resultado = val1 + val2\n",
        "print(resultado)"
      ],
      "execution_count": 4,
      "outputs": [
        {
          "output_type": "stream",
          "text": [
            "3\n"
          ],
          "name": "stdout"
        }
      ]
    },
    {
      "cell_type": "code",
      "metadata": {
        "id": "VsAmU4n0TCWC",
        "colab_type": "code",
        "colab": {
          "base_uri": "https://localhost:8080/",
          "height": 34
        },
        "outputId": "aab793e7-9eee-4484-89c3-abc011ebb0d2"
      },
      "source": [
        "num = 4\n",
        "if num % 2 == 0:\n",
        "  print(\"es par\")"
      ],
      "execution_count": 5,
      "outputs": [
        {
          "output_type": "stream",
          "text": [
            "es par\n"
          ],
          "name": "stdout"
        }
      ]
    },
    {
      "cell_type": "code",
      "metadata": {
        "id": "iQXX0L8qTnEq",
        "colab_type": "code",
        "colab": {
          "base_uri": "https://localhost:8080/",
          "height": 51
        },
        "outputId": "bfbabec4-f252-4df1-e1b9-25e46f99c87a"
      },
      "source": [
        "num = int(input(\"ingrese un valor: \"))\n",
        "if num % 2 == 0:\n",
        "  print(\"es par\")\n",
        "else:\n",
        "    print(num, \"es impar\")"
      ],
      "execution_count": 10,
      "outputs": [
        {
          "output_type": "stream",
          "text": [
            "ingrese un valor: 3\n",
            "3 es impar\n"
          ],
          "name": "stdout"
        }
      ]
    },
    {
      "cell_type": "code",
      "metadata": {
        "id": "cn25dJA-VYzx",
        "colab_type": "code",
        "colab": {
          "base_uri": "https://localhost:8080/",
          "height": 51
        },
        "outputId": "a6c9a213-13ff-4e78-88c0-0b4eeae512a4"
      },
      "source": [
        "num = int(input(\"ingrese un valor: \"))\n",
        "if num > 10:\n",
        "  print(\"es mayor a 10\")\n",
        "  print(\"hola\")\n",
        "else:\n",
        "  print(\"es menor o gual a 10\")"
      ],
      "execution_count": 12,
      "outputs": [
        {
          "output_type": "stream",
          "text": [
            "ingrese un valor: 10\n",
            "es menor o gual a 10\n"
          ],
          "name": "stdout"
        }
      ]
    },
    {
      "cell_type": "code",
      "metadata": {
        "id": "M1T3SzX9WfYs",
        "colab_type": "code",
        "colab": {}
      },
      "source": [
        "def saludo():\n",
        "  print(\"hola mundo feliz\")\n",
        "saludo()"
      ],
      "execution_count": null,
      "outputs": []
    },
    {
      "cell_type": "code",
      "metadata": {
        "id": "MAL5O8FXYTdn",
        "colab_type": "code",
        "colab": {
          "base_uri": "https://localhost:8080/",
          "height": 34
        },
        "outputId": "5675bef3-8396-4d7a-974f-72cd59cd3309"
      },
      "source": [
        "def saludo_usuario(nombre):\n",
        "  print(\"hola\" + \" \" + nombre)\n",
        "saludo(\"ana\")"
      ],
      "execution_count": 16,
      "outputs": [
        {
          "output_type": "stream",
          "text": [
            "hola ana\n"
          ],
          "name": "stdout"
        }
      ]
    },
    {
      "cell_type": "code",
      "metadata": {
        "id": "269USPD0Yk4u",
        "colab_type": "code",
        "colab": {
          "base_uri": "https://localhost:8080/",
          "height": 267
        },
        "outputId": "e850ff4d-e409-4119-c17f-a67207d98e1d"
      },
      "source": [
        "num = input(\"ingrese un valor: \")\n",
        "print(num)\n",
        "\n",
        "num = int(input(\"ingrese un valor: \"))\n",
        "print(num)"
      ],
      "execution_count": 19,
      "outputs": [
        {
          "output_type": "stream",
          "text": [
            "ingrese un valor: hola\n",
            "hola\n",
            "ingrese un valor: hola\n"
          ],
          "name": "stdout"
        },
        {
          "output_type": "error",
          "ename": "ValueError",
          "evalue": "ignored",
          "traceback": [
            "\u001b[0;31m---------------------------------------------------------------------------\u001b[0m",
            "\u001b[0;31mValueError\u001b[0m                                Traceback (most recent call last)",
            "\u001b[0;32m<ipython-input-19-a38341e935f5>\u001b[0m in \u001b[0;36m<module>\u001b[0;34m()\u001b[0m\n\u001b[1;32m      2\u001b[0m \u001b[0mprint\u001b[0m\u001b[0;34m(\u001b[0m\u001b[0mnum\u001b[0m\u001b[0;34m)\u001b[0m\u001b[0;34m\u001b[0m\u001b[0;34m\u001b[0m\u001b[0m\n\u001b[1;32m      3\u001b[0m \u001b[0;34m\u001b[0m\u001b[0m\n\u001b[0;32m----> 4\u001b[0;31m \u001b[0mnum\u001b[0m \u001b[0;34m=\u001b[0m \u001b[0mint\u001b[0m\u001b[0;34m(\u001b[0m\u001b[0minput\u001b[0m\u001b[0;34m(\u001b[0m\u001b[0;34m\"ingrese un valor: \"\u001b[0m\u001b[0;34m)\u001b[0m\u001b[0;34m)\u001b[0m\u001b[0;34m\u001b[0m\u001b[0;34m\u001b[0m\u001b[0m\n\u001b[0m\u001b[1;32m      5\u001b[0m \u001b[0mprint\u001b[0m\u001b[0;34m(\u001b[0m\u001b[0mnum\u001b[0m\u001b[0;34m)\u001b[0m\u001b[0;34m\u001b[0m\u001b[0;34m\u001b[0m\u001b[0m\n",
            "\u001b[0;31mValueError\u001b[0m: invalid literal for int() with base 10: 'hola'"
          ]
        }
      ]
    },
    {
      "cell_type": "markdown",
      "metadata": {
        "id": "weTh9zwCaBkz",
        "colab_type": "text"
      },
      "source": [
        "int es para transformar a numero"
      ]
    },
    {
      "cell_type": "code",
      "metadata": {
        "id": "aOuTlkynaY99",
        "colab_type": "code",
        "colab": {}
      },
      "source": [
        ""
      ],
      "execution_count": null,
      "outputs": []
    }
  ]
}