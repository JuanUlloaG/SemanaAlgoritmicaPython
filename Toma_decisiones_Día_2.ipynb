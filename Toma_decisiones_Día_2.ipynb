{
  "nbformat": 4,
  "nbformat_minor": 0,
  "metadata": {
    "kernelspec": {
      "display_name": "Python 3",
      "language": "python",
      "name": "python3"
    },
    "language_info": {
      "codemirror_mode": {
        "name": "ipython",
        "version": 3
      },
      "file_extension": ".py",
      "mimetype": "text/x-python",
      "name": "python",
      "nbconvert_exporter": "python",
      "pygments_lexer": "ipython3",
      "version": "3.8.3"
    },
    "colab": {
      "name": "Toma decisiones - Día 2.ipynb",
      "provenance": [],
      "include_colab_link": true
    }
  },
  "cells": [
    {
      "cell_type": "markdown",
      "metadata": {
        "id": "view-in-github",
        "colab_type": "text"
      },
      "source": [
        "<a href=\"https://colab.research.google.com/github/JonAbaroa/Semana-Algoritmica-Curso/blob/master/Toma_decisiones_D%C3%ADa_2.ipynb\" target=\"_parent\"><img src=\"https://colab.research.google.com/assets/colab-badge.svg\" alt=\"Open In Colab\"/></a>"
      ]
    },
    {
      "cell_type": "markdown",
      "metadata": {
        "id": "NW_w6bqOI3JC",
        "colab_type": "text"
      },
      "source": [
        "# Toma decisiones\n",
        "\n",
        "## Semana Algorítmica: Día 2\n",
        "\n",
        "### Activación\n"
      ]
    },
    {
      "cell_type": "code",
      "metadata": {
        "id": "Vs9_ENluI3JF",
        "colab_type": "code",
        "colab": {}
      },
      "source": [
        "# Variables\n",
        "\n",
        "numero_entero = 20\n",
        "\n",
        "numero_decimal = 0.6\n",
        "\n",
        "soy_una_cadena = \"Estoy aprendiendo a programar y es entero pulento\"\n",
        "\n",
        "verdadero = True\n",
        "\n",
        "falso = False"
      ],
      "execution_count": null,
      "outputs": []
    },
    {
      "cell_type": "code",
      "metadata": {
        "id": "UPl_snlHI3JQ",
        "colab_type": "code",
        "colab": {}
      },
      "source": [
        "numero_entero, type(numero_entero)"
      ],
      "execution_count": null,
      "outputs": []
    },
    {
      "cell_type": "code",
      "metadata": {
        "id": "Y3SfzI85I3JY",
        "colab_type": "code",
        "colab": {}
      },
      "source": [
        "numero_decimal, type(numero_decimal)"
      ],
      "execution_count": null,
      "outputs": []
    },
    {
      "cell_type": "code",
      "metadata": {
        "id": "4c_N9T2LI3Je",
        "colab_type": "code",
        "colab": {}
      },
      "source": [
        "soy_una_cadena, type(soy_una_cadena)"
      ],
      "execution_count": null,
      "outputs": []
    },
    {
      "cell_type": "code",
      "metadata": {
        "id": "lyjU_lasI3Ji",
        "colab_type": "code",
        "colab": {}
      },
      "source": [
        "verdadero, type(verdadero)"
      ],
      "execution_count": null,
      "outputs": []
    },
    {
      "cell_type": "code",
      "metadata": {
        "id": "mdDVh1z0I3Jq",
        "colab_type": "code",
        "colab": {}
      },
      "source": [
        "falso, type(falso)"
      ],
      "execution_count": null,
      "outputs": []
    },
    {
      "cell_type": "code",
      "metadata": {
        "id": "qNtVmRhgI3Jx",
        "colab_type": "code",
        "colab": {}
      },
      "source": [
        "# Se deben respetar mayúsculas y minúscula para utilizar las variables\n",
        "\n",
        "Falso"
      ],
      "execution_count": null,
      "outputs": []
    },
    {
      "cell_type": "code",
      "metadata": {
        "id": "78EL_oqqI3J9",
        "colab_type": "code",
        "colab": {}
      },
      "source": [
        "# Esto no se puede para crear variables\n",
        "\n",
        "usar espacios = \"Cueck\""
      ],
      "execution_count": null,
      "outputs": []
    },
    {
      "cell_type": "markdown",
      "metadata": {
        "id": "O1pce4kzI3KD",
        "colab_type": "text"
      },
      "source": [
        "### Strings"
      ]
    },
    {
      "cell_type": "code",
      "metadata": {
        "id": "R9N83-ODI3KE",
        "colab_type": "code",
        "colab": {}
      },
      "source": [
        "nombre = \"Pipe\"\n",
        "apellido = \"San Martín\""
      ],
      "execution_count": null,
      "outputs": []
    },
    {
      "cell_type": "code",
      "metadata": {
        "id": "SC1USp0MI3KL",
        "colab_type": "code",
        "colab": {}
      },
      "source": [
        "#Concatenación\n",
        "\n",
        "print(\"Mi nombre es \" + nombre + \" \" + apellido)"
      ],
      "execution_count": null,
      "outputs": []
    },
    {
      "cell_type": "code",
      "metadata": {
        "id": "-BLGQ-rQI3KQ",
        "colab_type": "code",
        "colab": {}
      },
      "source": [
        "# Interpolación\n",
        "\n",
        "print(\"Mi nombre es {} {}\".format(nombre, apellido))"
      ],
      "execution_count": null,
      "outputs": []
    },
    {
      "cell_type": "code",
      "metadata": {
        "id": "TrLco8tmI3KV",
        "colab_type": "code",
        "colab": {}
      },
      "source": [
        "# Algunos métodos (funciones nativas de Python) extra\n",
        "\n",
        "# Largo de la cadena\n",
        "\n",
        "print(apellido, len(apellido))\n",
        "print(nombre, len(nombre))"
      ],
      "execution_count": null,
      "outputs": []
    },
    {
      "cell_type": "code",
      "metadata": {
        "id": "xYebhyM4I3Kc",
        "colab_type": "code",
        "colab": {}
      },
      "source": [
        "# Número de veces que se repite una letra\n",
        "\n",
        "print(apellido, apellido.count(\"a\"))\n",
        "print(nombre, nombre.count(\"i\"))"
      ],
      "execution_count": null,
      "outputs": []
    },
    {
      "cell_type": "code",
      "metadata": {
        "id": "lzpdalKJI3Kh",
        "colab_type": "code",
        "colab": {}
      },
      "source": [
        "# Pasar todo a minúscula\n",
        "\n",
        "print(apellido.lower())\n",
        "print(nombre.lower())"
      ],
      "execution_count": null,
      "outputs": []
    },
    {
      "cell_type": "code",
      "metadata": {
        "id": "-MAXacYTI3Km",
        "colab_type": "code",
        "colab": {}
      },
      "source": [
        "# Pasar todo a mayúscula\n",
        "\n",
        "print(apellido.upper())\n",
        "print(nombre.upper())"
      ],
      "execution_count": null,
      "outputs": []
    },
    {
      "cell_type": "markdown",
      "metadata": {
        "id": "-v-Oac1uI3Kq",
        "colab_type": "text"
      },
      "source": [
        "## Incorporación"
      ]
    },
    {
      "cell_type": "markdown",
      "metadata": {
        "id": "eTzrJZG1I3Kq",
        "colab_type": "text"
      },
      "source": [
        "* Operadores de comparación >, <, >= (mayor o igual), <= (menor o igual), == igualdad, es idéntico."
      ]
    },
    {
      "cell_type": "code",
      "metadata": {
        "id": "s2D4ZBcjI3Kr",
        "colab_type": "code",
        "colab": {}
      },
      "source": [
        "5 > 6"
      ],
      "execution_count": null,
      "outputs": []
    },
    {
      "cell_type": "code",
      "metadata": {
        "id": "J_quv_AsI3Kw",
        "colab_type": "code",
        "colab": {}
      },
      "source": [
        "6 > 1"
      ],
      "execution_count": null,
      "outputs": []
    },
    {
      "cell_type": "code",
      "metadata": {
        "id": "fVjZcsA7I3Kz",
        "colab_type": "code",
        "colab": {}
      },
      "source": [
        "1 > 0.5"
      ],
      "execution_count": null,
      "outputs": []
    },
    {
      "cell_type": "code",
      "metadata": {
        "id": "7bopRlp_I3K4",
        "colab_type": "code",
        "colab": {}
      },
      "source": [
        "3 < 20"
      ],
      "execution_count": null,
      "outputs": []
    },
    {
      "cell_type": "code",
      "metadata": {
        "id": "izulGesOI3K8",
        "colab_type": "code",
        "colab": {}
      },
      "source": [
        "12 < 3"
      ],
      "execution_count": null,
      "outputs": []
    },
    {
      "cell_type": "code",
      "metadata": {
        "id": "ZwlI0qfhI3LB",
        "colab_type": "code",
        "colab": {}
      },
      "source": [
        "12 > 3"
      ],
      "execution_count": null,
      "outputs": []
    },
    {
      "cell_type": "code",
      "metadata": {
        "id": "EK2XShWJI3LF",
        "colab_type": "code",
        "colab": {}
      },
      "source": [
        "8 > 8"
      ],
      "execution_count": null,
      "outputs": []
    },
    {
      "cell_type": "code",
      "metadata": {
        "id": "dJcWzi9bI3LI",
        "colab_type": "code",
        "colab": {}
      },
      "source": [
        "8 < 8"
      ],
      "execution_count": null,
      "outputs": []
    },
    {
      "cell_type": "code",
      "metadata": {
        "id": "huijCX55I3LO",
        "colab_type": "code",
        "colab": {}
      },
      "source": [
        "8 == 8"
      ],
      "execution_count": null,
      "outputs": []
    },
    {
      "cell_type": "code",
      "metadata": {
        "id": "woYc5iBNI3LV",
        "colab_type": "code",
        "colab": {}
      },
      "source": [
        "8 >= 8"
      ],
      "execution_count": null,
      "outputs": []
    },
    {
      "cell_type": "code",
      "metadata": {
        "id": "NIMi_ZbEI3Ld",
        "colab_type": "code",
        "colab": {}
      },
      "source": [
        "8 <= 8"
      ],
      "execution_count": null,
      "outputs": []
    },
    {
      "cell_type": "markdown",
      "metadata": {
        "id": "_bMfkyC6I3Lj",
        "colab_type": "text"
      },
      "source": [
        "* Los operadores booleanos se escriben como palabras: and, not, or."
      ]
    },
    {
      "cell_type": "code",
      "metadata": {
        "id": "gGjSMGShI3Lk",
        "colab_type": "code",
        "colab": {}
      },
      "source": [
        "True and False"
      ],
      "execution_count": null,
      "outputs": []
    },
    {
      "cell_type": "code",
      "metadata": {
        "id": "JoOrU8MnI3Lq",
        "colab_type": "code",
        "colab": {}
      },
      "source": [
        "True and True"
      ],
      "execution_count": null,
      "outputs": []
    },
    {
      "cell_type": "code",
      "metadata": {
        "id": "7VhRKaSBI3Lu",
        "colab_type": "code",
        "colab": {}
      },
      "source": [
        "False and False"
      ],
      "execution_count": null,
      "outputs": []
    },
    {
      "cell_type": "code",
      "metadata": {
        "id": "8t8ewyGXI3L1",
        "colab_type": "code",
        "colab": {}
      },
      "source": [
        "True or False"
      ],
      "execution_count": null,
      "outputs": []
    },
    {
      "cell_type": "code",
      "metadata": {
        "id": "m5BOLKzBI3L7",
        "colab_type": "code",
        "colab": {}
      },
      "source": [
        "False or True"
      ],
      "execution_count": null,
      "outputs": []
    },
    {
      "cell_type": "code",
      "metadata": {
        "id": "XxtqpidbI3L_",
        "colab_type": "code",
        "colab": {}
      },
      "source": [
        "False or False"
      ],
      "execution_count": null,
      "outputs": []
    },
    {
      "cell_type": "code",
      "metadata": {
        "id": "SDfGpaviI3ME",
        "colab_type": "code",
        "colab": {}
      },
      "source": [
        "not True"
      ],
      "execution_count": null,
      "outputs": []
    },
    {
      "cell_type": "code",
      "metadata": {
        "id": "M3OVMhv9I3MH",
        "colab_type": "code",
        "colab": {}
      },
      "source": [
        "not False"
      ],
      "execution_count": null,
      "outputs": []
    },
    {
      "cell_type": "markdown",
      "metadata": {
        "id": "QCCz8JIsI3MN",
        "colab_type": "text"
      },
      "source": [
        "Ejemplo: Determinar si una persona es mayor, menor o tiene exactamente 17 años"
      ]
    },
    {
      "cell_type": "code",
      "metadata": {
        "id": "foiEGcPUI3MO",
        "colab_type": "code",
        "colab": {}
      },
      "source": [
        "edad=17\n",
        "\n",
        "if edad > 17: \n",
        "    print(\"Eres mayor de 17 años\")\n",
        "    \n",
        "elif edad == 17:\n",
        "    print(\"Tienes 17 años\")\n",
        "    \n",
        "else:\n",
        "    print(\"Es menor de 17 años\")\n"
      ],
      "execution_count": null,
      "outputs": []
    },
    {
      "cell_type": "markdown",
      "metadata": {
        "id": "CqATvPrUI3MW",
        "colab_type": "text"
      },
      "source": [
        "Ejemplo: Hacer una función que a partir de la edad de una persona, determine la generación a la que pertenece"
      ]
    },
    {
      "cell_type": "code",
      "metadata": {
        "id": "j5Mmp5LrI3MZ",
        "colab_type": "code",
        "colab": {}
      },
      "source": [
        "def detector_generacional(edad):\n",
        "    '''\n",
        "    Función que detecta tu generación según tu edad:\n",
        "    \n",
        "    56 - 64 años = Baby Boomer\n",
        "    41 - 55 años = Generación X\n",
        "    20 - 40 años = Milennials\n",
        "    0 - 19 años = Generación z\n",
        "    '''\n",
        "    if edad < 64 and edad >= 56:\n",
        "        print(\"Eres un Baby Boomer\")\n",
        "        \n",
        "    elif edad < 56 and edad >= 41:\n",
        "        print(\"Eres un X\")\n",
        "        \n",
        "    elif edad < 41 and edad >= 20:\n",
        "        print(\"Eres un Milennial\")\n",
        "        \n",
        "    else:\n",
        "        print(\"Eres un Z\")\n",
        "        \n",
        "\n",
        "detector_generacional(26)"
      ],
      "execution_count": null,
      "outputs": []
    }
  ]
}