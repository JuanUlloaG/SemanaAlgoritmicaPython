{
  "nbformat": 4,
  "nbformat_minor": 0,
  "metadata": {
    "kernelspec": {
      "display_name": "Python 3",
      "language": "python",
      "name": "python3"
    },
    "language_info": {
      "codemirror_mode": {
        "name": "ipython",
        "version": 3
      },
      "file_extension": ".py",
      "mimetype": "text/x-python",
      "name": "python",
      "nbconvert_exporter": "python",
      "pygments_lexer": "ipython3",
      "version": "3.8.3"
    },
    "colab": {
      "name": "El arte de programar - Día 1_ con ejercicios y soluciones.ipynb",
      "provenance": [],
      "include_colab_link": true
    }
  },
  "cells": [
    {
      "cell_type": "markdown",
      "metadata": {
        "id": "view-in-github",
        "colab_type": "text"
      },
      "source": [
        "<a href=\"https://colab.research.google.com/github/JonAbaroa/Semana-Algoritmica-Curso/blob/master/El_arte_de_programar_D%C3%ADa_1__con_ejercicios_y_soluciones.ipynb\" target=\"_parent\"><img src=\"https://colab.research.google.com/assets/colab-badge.svg\" alt=\"Open In Colab\"/></a>"
      ]
    },
    {
      "cell_type": "markdown",
      "metadata": {
        "id": "zHdHGOtnJQTw",
        "colab_type": "text"
      },
      "source": [
        "# El arte de programar\n",
        "\n",
        "### Semana Algorítmica: Día 1\n",
        "\n",
        "## Variables y tipos\n",
        "\n",
        "### Nombres de símbolos\n",
        "\n",
        " Los nombres de las variables en Python pueden contener los caracteres `a-z`, `A-Z`, `0-9` y algunos caracteres especiales como `_`. Los nombres de variables normales deben comenzar con una letra. \n",
        "\n",
        "Además, existen algunos palabras claves Python que no pueden ser usados como nombres de variables. Éstas son:\n",
        "\n",
        "    and, as, assert, break, class, continue, def, del, elif, else, except, \n",
        "    exec, finally, for, from, global, if, import, in, is, lambda, not, or,\n",
        "    pass, print, raise, return, try, while, with, yield\n",
        "    \n",
        "### Asignaciones\n",
        "\n",
        "El operador para asignar valores en Python es el signo igual (`=`). Python es un lenguage de _escritura dinámica_, de modo que no necesitamos especificar el tipo de una variable cuando la creamos.\n",
        "\n",
        "Al asignar un valor a una variable nueva se crea esa variable:"
      ]
    },
    {
      "cell_type": "code",
      "metadata": {
        "id": "RjeL0-vYJQTy",
        "colab_type": "code",
        "colab": {}
      },
      "source": [
        "# asignaciones de variables\n",
        "x = 1.0\n",
        "mi_variable = 12.2"
      ],
      "execution_count": null,
      "outputs": []
    },
    {
      "cell_type": "markdown",
      "metadata": {
        "id": "vkotvWrPJQT4",
        "colab_type": "text"
      },
      "source": [
        "Aunque no se especifique explícitamente, cada variable sí tiene un tipo asociada a ella. El tipo es extraido del valor que le fue asignado."
      ]
    },
    {
      "cell_type": "code",
      "metadata": {
        "id": "qQ5JaBvaJQT5",
        "colab_type": "code",
        "colab": {},
        "outputId": "0cc35169-e438-449b-d311-31b517efbaa8"
      },
      "source": [
        "type(x)"
      ],
      "execution_count": null,
      "outputs": [
        {
          "output_type": "execute_result",
          "data": {
            "text/plain": [
              "float"
            ]
          },
          "metadata": {
            "tags": []
          },
          "execution_count": 2
        }
      ]
    },
    {
      "cell_type": "markdown",
      "metadata": {
        "id": "GF9BUEJaJQUB",
        "colab_type": "text"
      },
      "source": [
        "Si asignamos un nuevo valor a una variable, su tipo puede cambiar."
      ]
    },
    {
      "cell_type": "code",
      "metadata": {
        "id": "SuGgtzJCJQUB",
        "colab_type": "code",
        "colab": {}
      },
      "source": [
        "x = 1"
      ],
      "execution_count": null,
      "outputs": []
    },
    {
      "cell_type": "code",
      "metadata": {
        "id": "sfKnTyaeJQUG",
        "colab_type": "code",
        "colab": {},
        "outputId": "91d38c7d-eaf6-4701-a266-83b7c6e8fe60"
      },
      "source": [
        "type(x)"
      ],
      "execution_count": null,
      "outputs": [
        {
          "output_type": "execute_result",
          "data": {
            "text/plain": [
              "int"
            ]
          },
          "metadata": {
            "tags": []
          },
          "execution_count": 4
        }
      ]
    },
    {
      "cell_type": "markdown",
      "metadata": {
        "id": "YqEfMvDgJQUL",
        "colab_type": "text"
      },
      "source": [
        "Si tratamos de usar una variable que no ha sido definida obtenemo un mensaje de error (`NameError`):"
      ]
    },
    {
      "cell_type": "code",
      "metadata": {
        "id": "l-9KoSfiJQUO",
        "colab_type": "code",
        "colab": {}
      },
      "source": [
        "#type(y)"
      ],
      "execution_count": null,
      "outputs": []
    },
    {
      "cell_type": "markdown",
      "metadata": {
        "id": "hUGw6O6bJQUV",
        "colab_type": "text"
      },
      "source": [
        "### Tipos Fundamentales"
      ]
    },
    {
      "cell_type": "code",
      "metadata": {
        "id": "LUnDsV7QJQUW",
        "colab_type": "code",
        "colab": {},
        "outputId": "4d68df4e-6ee3-4443-a4b1-d2c3b89834bd"
      },
      "source": [
        "# enteros\n",
        "x = 1\n",
        "type(x)"
      ],
      "execution_count": null,
      "outputs": [
        {
          "output_type": "execute_result",
          "data": {
            "text/plain": [
              "int"
            ]
          },
          "metadata": {
            "tags": []
          },
          "execution_count": 6
        }
      ]
    },
    {
      "cell_type": "code",
      "metadata": {
        "id": "EfEHdTitJQUa",
        "colab_type": "code",
        "colab": {},
        "outputId": "05127b3b-1c85-4d4a-db5c-bc94fbdd5d77"
      },
      "source": [
        "# flotantes\n",
        "x = 1.0\n",
        "type(x)"
      ],
      "execution_count": null,
      "outputs": [
        {
          "output_type": "execute_result",
          "data": {
            "text/plain": [
              "float"
            ]
          },
          "metadata": {
            "tags": []
          },
          "execution_count": 7
        }
      ]
    },
    {
      "cell_type": "code",
      "metadata": {
        "id": "RB8r5WH5JQUg",
        "colab_type": "code",
        "colab": {},
        "outputId": "05ce04e0-7fdc-438e-e474-ad8d5bbb8c40"
      },
      "source": [
        "# booleanos\n",
        "b1 = True\n",
        "b2 = False\n",
        "\n",
        "type(b1)"
      ],
      "execution_count": null,
      "outputs": [
        {
          "output_type": "execute_result",
          "data": {
            "text/plain": [
              "bool"
            ]
          },
          "metadata": {
            "tags": []
          },
          "execution_count": 8
        }
      ]
    },
    {
      "cell_type": "code",
      "metadata": {
        "id": "JG8DJNPYJQUl",
        "colab_type": "code",
        "colab": {},
        "outputId": "b3001b40-73ae-4dc3-f066-581edd054ec6"
      },
      "source": [
        "# Cadena\n",
        "cadena = \"Hola, soy Pipe\"\n",
        "\n",
        "type(cadena)"
      ],
      "execution_count": null,
      "outputs": [
        {
          "output_type": "execute_result",
          "data": {
            "text/plain": [
              "str"
            ]
          },
          "metadata": {
            "tags": []
          },
          "execution_count": 9
        }
      ]
    },
    {
      "cell_type": "markdown",
      "metadata": {
        "id": "WpdguCNBJQUp",
        "colab_type": "text"
      },
      "source": [
        "## Operadores aritméticos\n",
        "\n",
        "* Operadores aritméticos `+`, `-`, `*`, `/`, `//` (división entera), '**' potencia"
      ]
    },
    {
      "cell_type": "code",
      "metadata": {
        "id": "zFr9Smr5JQUq",
        "colab_type": "code",
        "colab": {},
        "outputId": "3298e5e8-5ebd-4660-b496-45b822dc9bb9"
      },
      "source": [
        "# Suma\n",
        "1 + 2"
      ],
      "execution_count": null,
      "outputs": [
        {
          "output_type": "execute_result",
          "data": {
            "text/plain": [
              "3"
            ]
          },
          "metadata": {
            "tags": []
          },
          "execution_count": 10
        }
      ]
    },
    {
      "cell_type": "code",
      "metadata": {
        "id": "xoMnSH34JQUu",
        "colab_type": "code",
        "colab": {},
        "outputId": "9126fd98-fff5-4ed8-976a-8c830f409153"
      },
      "source": [
        "# Resta\n",
        "1 - 2"
      ],
      "execution_count": null,
      "outputs": [
        {
          "output_type": "execute_result",
          "data": {
            "text/plain": [
              "-1"
            ]
          },
          "metadata": {
            "tags": []
          },
          "execution_count": 11
        }
      ]
    },
    {
      "cell_type": "code",
      "metadata": {
        "id": "k0EB3YWWJQU1",
        "colab_type": "code",
        "colab": {},
        "outputId": "2c55b4cf-9b0f-441b-e2a8-d4cd5d75d400"
      },
      "source": [
        "# Multiplicación\n",
        "1 * 2"
      ],
      "execution_count": null,
      "outputs": [
        {
          "output_type": "execute_result",
          "data": {
            "text/plain": [
              "2"
            ]
          },
          "metadata": {
            "tags": []
          },
          "execution_count": 12
        }
      ]
    },
    {
      "cell_type": "code",
      "metadata": {
        "id": "ljJK00MOJQU5",
        "colab_type": "code",
        "colab": {},
        "outputId": "3b52b22f-fa66-4b82-bd71-4952caa71a65"
      },
      "source": [
        "# División\n",
        "1 / 2"
      ],
      "execution_count": null,
      "outputs": [
        {
          "output_type": "execute_result",
          "data": {
            "text/plain": [
              "0.5"
            ]
          },
          "metadata": {
            "tags": []
          },
          "execution_count": 13
        }
      ]
    },
    {
      "cell_type": "code",
      "metadata": {
        "id": "kZettJQKJQU9",
        "colab_type": "code",
        "colab": {},
        "outputId": "e73cf034-04c1-4564-e20b-e5e6b4dc320d"
      },
      "source": [
        "# División entera de dos númenos flotantes\n",
        "3.0 // 2.0 # Obtener la parte entera de la división"
      ],
      "execution_count": null,
      "outputs": [
        {
          "output_type": "execute_result",
          "data": {
            "text/plain": [
              "1.0"
            ]
          },
          "metadata": {
            "tags": []
          },
          "execution_count": 14
        }
      ]
    },
    {
      "cell_type": "code",
      "metadata": {
        "id": "1yY3t1duJQVD",
        "colab_type": "code",
        "colab": {},
        "outputId": "fb713de6-d9b6-46d3-f080-d82ce387e15c"
      },
      "source": [
        "# Atención! El operador de potencia en Python no es ^, sino **\n",
        "2**3 # dos elevado a tres"
      ],
      "execution_count": null,
      "outputs": [
        {
          "output_type": "execute_result",
          "data": {
            "text/plain": [
              "8"
            ]
          },
          "metadata": {
            "tags": []
          },
          "execution_count": 15
        }
      ]
    },
    {
      "cell_type": "markdown",
      "metadata": {
        "id": "pChkSxOOJQVJ",
        "colab_type": "text"
      },
      "source": [
        "## Funciones\n",
        "\n",
        "En Python una función es definida usando la palabra clave `def`, seguida de un nombre para la función, una o varias variables entre paréntesis `()`, y el símbolo de dos puntos `:`. El siguiente código, con un nivel adicional de indentación, es el cuerpo de la función."
      ]
    },
    {
      "cell_type": "code",
      "metadata": {
        "id": "2VXET6IwJQVJ",
        "colab_type": "code",
        "colab": {}
      },
      "source": [
        "def funcion_0():   \n",
        "    print(\"test\")"
      ],
      "execution_count": null,
      "outputs": []
    },
    {
      "cell_type": "code",
      "metadata": {
        "id": "3g9OaejZJQVO",
        "colab_type": "code",
        "colab": {},
        "outputId": "58ff9ef6-0cc7-474d-9050-a971a277610a"
      },
      "source": [
        "funcion_0() #Se ejecuta la función escribiendo su nombre"
      ],
      "execution_count": null,
      "outputs": [
        {
          "output_type": "stream",
          "text": [
            "test\n"
          ],
          "name": "stdout"
        }
      ]
    },
    {
      "cell_type": "markdown",
      "metadata": {
        "id": "58UkUDY1JQVT",
        "colab_type": "text"
      },
      "source": [
        "En forma opcional, pero muy recomendada, podemos definir un \"docstring\", que es una descripción del propósito y comportamiento de la función. El docstring debería ser incluido directamente después de la definición de la función, antes del código en el cuerpo de la función."
      ]
    },
    {
      "cell_type": "code",
      "metadata": {
        "id": "0E0bmw8cJQVU",
        "colab_type": "code",
        "colab": {}
      },
      "source": [
        "def funcion_1(s):\n",
        "    \"\"\"\n",
        "    Esta función imprime en pantalla la variable ingresada\n",
        "    \"\"\"\n",
        "    \n",
        "    print(s)"
      ],
      "execution_count": null,
      "outputs": []
    },
    {
      "cell_type": "code",
      "metadata": {
        "id": "ug_ITLOYJQVY",
        "colab_type": "code",
        "colab": {},
        "outputId": "0ac960c0-5273-4dac-cb92-670a89a210ab"
      },
      "source": [
        "funcion_1(\"Hola\")"
      ],
      "execution_count": null,
      "outputs": [
        {
          "output_type": "stream",
          "text": [
            "Hola\n"
          ],
          "name": "stdout"
        }
      ]
    },
    {
      "cell_type": "code",
      "metadata": {
        "id": "woKqIeiOJQVc",
        "colab_type": "code",
        "colab": {},
        "outputId": "a5f50e33-4e44-4b2e-d7ae-3632d3a04a1a"
      },
      "source": [
        "help(funcion_1)"
      ],
      "execution_count": null,
      "outputs": [
        {
          "output_type": "stream",
          "text": [
            "Help on function funcion_1 in module __main__:\n",
            "\n",
            "funcion_1(s)\n",
            "    Esta función imprime en pantalla la variable ingresada\n",
            "\n"
          ],
          "name": "stdout"
        }
      ]
    },
    {
      "cell_type": "markdown",
      "metadata": {
        "id": "KhcRnKPoJQVh",
        "colab_type": "text"
      },
      "source": [
        "Funciones que retornan un valor usan la palabra clave `return`:"
      ]
    },
    {
      "cell_type": "code",
      "metadata": {
        "id": "Fzi1U-4yJQVi",
        "colab_type": "code",
        "colab": {}
      },
      "source": [
        "def cuadrado(x):\n",
        "    \"\"\"\n",
        "    Calcula el cuadrado de x.\n",
        "    \"\"\"\n",
        "    return x**2"
      ],
      "execution_count": null,
      "outputs": []
    },
    {
      "cell_type": "code",
      "metadata": {
        "id": "guYn_APQJQVn",
        "colab_type": "code",
        "colab": {},
        "outputId": "3ac5dad8-1917-4193-d45d-b4ca85c8daaf"
      },
      "source": [
        "cuadrado(4)"
      ],
      "execution_count": null,
      "outputs": [
        {
          "output_type": "execute_result",
          "data": {
            "text/plain": [
              "16"
            ]
          },
          "metadata": {
            "tags": []
          },
          "execution_count": 22
        }
      ]
    },
    {
      "cell_type": "markdown",
      "metadata": {
        "id": "xE2yQt6lJQVr",
        "colab_type": "text"
      },
      "source": [
        "## Desafíos día 1: 07/08\n",
        "\n",
        "Para cada uno de estos ejercicios, **tome el tiempo inicial y el final**, ¿Cúanto tiempo demoró en hacer cada uno de ellos?\n",
        "\n",
        "1.- Realizar el paso a paso para calcular la suma de dos números cualesquiera\n",
        "\n",
        "2.- Implementarlo en Python\n",
        "\n",
        "3.- ¿Cuál es el resultado de ejecutar estas operaciones en Python?:\n",
        "\n",
        "    * 5*2-3+7-6*2**2\n",
        "    * 3+4+5-7*5+50\n",
        "    \n",
        "   ¿Qué operaciones se realizan primero? ¿Por qué?\n",
        "   \n",
        "4.- Ejecute en Python lo siguiente:\n",
        "\n",
        "    * 5*'jamon'\n",
        "    * '5' + 'jamon'\n",
        "    * 5*jamon\n",
        "    * 5 + jamon\n",
        "   Comente el resultado e identifique el motivo del resultado, ¿cuál obtiene error como resultado? ¿Por qué?\n",
        "   \n",
        "*Módulo para contar tiempo*: **from timeit import default_timer as timer**\n",
        "   \n",
        "## Solución\n",
        "\n",
        "1.- \"Algoritmo Suma\"\n",
        "\n",
        " (i)   Leer valor1\n",
        " \n",
        " (ii)  Leer Valor2\n",
        " \n",
        " (iii) Mostrar valor1 + valor2\n",
        " \n",
        " (iv)  FinAlgoritmo\n",
        " \n",
        "2.- Implementación en Python"
      ]
    },
    {
      "cell_type": "code",
      "metadata": {
        "id": "lcySk32XJQVs",
        "colab_type": "code",
        "colab": {},
        "outputId": "c67d43d1-42c9-4ac0-e034-c0f66ed1b05a"
      },
      "source": [
        "def suma(primer_numero, segundo_numero):\n",
        "    return primer_numero + segundo_numero\n",
        "\n",
        "suma(1,3)"
      ],
      "execution_count": null,
      "outputs": [
        {
          "output_type": "execute_result",
          "data": {
            "text/plain": [
              "4"
            ]
          },
          "metadata": {
            "tags": []
          },
          "execution_count": 1
        }
      ]
    },
    {
      "cell_type": "code",
      "metadata": {
        "id": "OPnhTHGpJQVz",
        "colab_type": "code",
        "colab": {},
        "outputId": "0ca96b5e-efda-41e5-afb9-65bdd22b3a39"
      },
      "source": [
        "suma(4,20)"
      ],
      "execution_count": null,
      "outputs": [
        {
          "output_type": "execute_result",
          "data": {
            "text/plain": [
              "24"
            ]
          },
          "metadata": {
            "tags": []
          },
          "execution_count": 2
        }
      ]
    },
    {
      "cell_type": "markdown",
      "metadata": {
        "id": "hfFxcDJiJQV3",
        "colab_type": "text"
      },
      "source": [
        "3.- Operacione aritméticas\n",
        "\n"
      ]
    },
    {
      "cell_type": "code",
      "metadata": {
        "id": "iJ4l6nBCJQV3",
        "colab_type": "code",
        "colab": {},
        "outputId": "720c8584-1208-4124-9817-f9e464ca8dc6"
      },
      "source": [
        "5*2-3+7-6*2**2"
      ],
      "execution_count": null,
      "outputs": [
        {
          "output_type": "execute_result",
          "data": {
            "text/plain": [
              "-10"
            ]
          },
          "metadata": {
            "tags": []
          },
          "execution_count": 3
        }
      ]
    },
    {
      "cell_type": "code",
      "metadata": {
        "id": "Rzq2BqO9JQV7",
        "colab_type": "code",
        "colab": {},
        "outputId": "958e09a5-fd4f-44ea-bf7c-d4c228940e77"
      },
      "source": [
        "3+4+5-7*5+50"
      ],
      "execution_count": null,
      "outputs": [
        {
          "output_type": "execute_result",
          "data": {
            "text/plain": [
              "27"
            ]
          },
          "metadata": {
            "tags": []
          },
          "execution_count": 4
        }
      ]
    },
    {
      "cell_type": "markdown",
      "metadata": {
        "id": "vSWXo4VtJQV-",
        "colab_type": "text"
      },
      "source": [
        "Primero resuelve potencia, luego multiplicación/división y al final suma/resta. Este ocurre porque Python está programado con ese orden para resolver operaciones aritméticas, si necesitamos **priorizar** alguna operación **se debe colocar entre paréntesis.**\n",
        "\n",
        "4.- Operaciones con variables int (números enteros) y str (cadenas, texto)"
      ]
    },
    {
      "cell_type": "code",
      "metadata": {
        "id": "vOFF9cIiJQV-",
        "colab_type": "code",
        "colab": {},
        "outputId": "4c719760-aa4d-4f9c-841f-461bfd7055e0"
      },
      "source": [
        "5*'jamon'"
      ],
      "execution_count": null,
      "outputs": [
        {
          "output_type": "execute_result",
          "data": {
            "text/plain": [
              "'jamonjamonjamonjamonjamon'"
            ]
          },
          "metadata": {
            "tags": []
          },
          "execution_count": 5
        }
      ]
    },
    {
      "cell_type": "markdown",
      "metadata": {
        "id": "8Ia0LaINJQWD",
        "colab_type": "text"
      },
      "source": [
        "Se escribió 5 veces la palabra \"jamon\" sin espacios"
      ]
    },
    {
      "cell_type": "code",
      "metadata": {
        "id": "HHx0hhSuJQWE",
        "colab_type": "code",
        "colab": {},
        "outputId": "99ee2cff-97bf-45b7-d385-6b028ded4a0c"
      },
      "source": [
        "'5' + 'jamon'"
      ],
      "execution_count": null,
      "outputs": [
        {
          "output_type": "execute_result",
          "data": {
            "text/plain": [
              "'5jamon'"
            ]
          },
          "metadata": {
            "tags": []
          },
          "execution_count": 6
        }
      ]
    },
    {
      "cell_type": "markdown",
      "metadata": {
        "id": "uY7BxeToJQWJ",
        "colab_type": "text"
      },
      "source": [
        "Unió el '5' con la palabra jamón sin espacios."
      ]
    },
    {
      "cell_type": "code",
      "metadata": {
        "id": "YTmrq3h6JQWK",
        "colab_type": "code",
        "colab": {},
        "outputId": "c067e01b-44f4-48ab-a075-1478a6e5b13f"
      },
      "source": [
        "5*jamon"
      ],
      "execution_count": null,
      "outputs": [
        {
          "output_type": "error",
          "ename": "NameError",
          "evalue": "name 'jamon' is not defined",
          "traceback": [
            "\u001b[1;31m---------------------------------------------------------------------------\u001b[0m",
            "\u001b[1;31mNameError\u001b[0m                                 Traceback (most recent call last)",
            "\u001b[1;32m<ipython-input-7-9efab95b31ff>\u001b[0m in \u001b[0;36m<module>\u001b[1;34m\u001b[0m\n\u001b[1;32m----> 1\u001b[1;33m \u001b[1;36m5\u001b[0m\u001b[1;33m*\u001b[0m\u001b[0mjamon\u001b[0m\u001b[1;33m\u001b[0m\u001b[1;33m\u001b[0m\u001b[0m\n\u001b[0m",
            "\u001b[1;31mNameError\u001b[0m: name 'jamon' is not defined"
          ]
        }
      ]
    },
    {
      "cell_type": "code",
      "metadata": {
        "id": "eNlwz4eoJQWO",
        "colab_type": "code",
        "colab": {},
        "outputId": "1f2d415c-d001-48ad-bad0-57eb9b620e90"
      },
      "source": [
        "5 + jamon"
      ],
      "execution_count": null,
      "outputs": [
        {
          "output_type": "error",
          "ename": "NameError",
          "evalue": "name 'jamon' is not defined",
          "traceback": [
            "\u001b[1;31m---------------------------------------------------------------------------\u001b[0m",
            "\u001b[1;31mNameError\u001b[0m                                 Traceback (most recent call last)",
            "\u001b[1;32m<ipython-input-8-8d61447da16c>\u001b[0m in \u001b[0;36m<module>\u001b[1;34m\u001b[0m\n\u001b[1;32m----> 1\u001b[1;33m \u001b[1;36m5\u001b[0m \u001b[1;33m+\u001b[0m \u001b[0mjamon\u001b[0m\u001b[1;33m\u001b[0m\u001b[1;33m\u001b[0m\u001b[0m\n\u001b[0m",
            "\u001b[1;31mNameError\u001b[0m: name 'jamon' is not defined"
          ]
        }
      ]
    },
    {
      "cell_type": "markdown",
      "metadata": {
        "id": "o1Kntjd8JQWS",
        "colab_type": "text"
      },
      "source": [
        "Entrega error en ambos casos porque jamon al no estar en comillas, Python lo reconoce como una \"variable\" y cómo no está definida entrega error"
      ]
    },
    {
      "cell_type": "code",
      "metadata": {
        "id": "P9WLaopkJQWT",
        "colab_type": "code",
        "colab": {}
      },
      "source": [
        ""
      ],
      "execution_count": null,
      "outputs": []
    },
    {
      "cell_type": "markdown",
      "metadata": {
        "id": "AJ4dwi6RJQWW",
        "colab_type": "text"
      },
      "source": [
        "## Desafíos  día 2: 08/08\n",
        "\n",
        "Para cada uno de estos ejercicios, **tome el tiempo inicial y el final**, ¿Cúanto tiempo demoró en hacer cada uno de ellos?\n",
        "\n",
        "1.- \"Calculadora básica\": Realizar el paso a paso para calcular la suma, resta, multiplicación y división de dos números cualesquiera\n",
        "\n",
        "2.- Implementarlo en Python (en lo posible, realice una función que al invocarla muestre todas esas operaciones)\n",
        "\n",
        "## Solución"
      ]
    },
    {
      "cell_type": "markdown",
      "metadata": {
        "id": "rGJNZoEuJQWX",
        "colab_type": "text"
      },
      "source": [
        "1.- Paso a paso \"Calculadora básica\"\n",
        "\n",
        "(1) Leer valor1\n",
        " \n",
        "(2) Leer Valor2\n",
        " \n",
        "(3) Mostrar valor1 + valor2\n",
        "\n",
        "(4) Mostrar valor1 - valor2\n",
        " \n",
        "(5) Mostrar valor1 * valor2\n",
        "\n",
        "(6) Mostrar valor1 / valor2\n",
        "\n",
        "(7) FinAlgoritmo\n",
        "\n",
        "2.- Implementación en Python\n"
      ]
    },
    {
      "cell_type": "code",
      "metadata": {
        "id": "8Gn1z7pJJQWY",
        "colab_type": "code",
        "colab": {},
        "outputId": "8892c2d1-f5ab-4e0a-9290-f91a5f1107cd"
      },
      "source": [
        "def calculadora_basica(primer_numero, segundo_numero):\n",
        "    '''\n",
        "    calcular la suma, resta, multiplicación y división de dos números cualesquiera\n",
        "    '''\n",
        "    print(\"El resultado de\", primer_numero, \"+\", segundo_numero, \"es: \", primer_numero + segundo_numero)\n",
        "    print(\"El resultado de\", primer_numero, \"-\", segundo_numero, \"es: \", primer_numero - segundo_numero)\n",
        "    print(\"El resultado de\", primer_numero, \"por\", segundo_numero, \"es: \", primer_numero * segundo_numero)\n",
        "    print(\"El resultado de\", primer_numero, \"dividido\", segundo_numero, \"es: \", primer_numero / segundo_numero)\n",
        "\n",
        "calculadora_basica(6,3)"
      ],
      "execution_count": null,
      "outputs": [
        {
          "output_type": "stream",
          "text": [
            "El resultado de 6 + 3 es:  9\n",
            "El resultado de 6 - 3 es:  3\n",
            "El resultado de 6 por 3 es:  18\n",
            "El resultado de 6 dividido 3 es:  2.0\n"
          ],
          "name": "stdout"
        }
      ]
    },
    {
      "cell_type": "markdown",
      "metadata": {
        "id": "-fiv9EXWJQWc",
        "colab_type": "text"
      },
      "source": [
        "## Desafíos  día 3: 09/08\n",
        "\n",
        "Para cada uno de estos ejercicios, **tome el tiempo inicial y el final**, ¿Cúanto tiempo demoró en hacer cada uno de ellos?\n",
        "\n",
        "1.- \"Date tú Whatsapp\": Realizar el paso a paso para conocer el nombre, apellido y edad de una persona, para luego hacer un mensaje usando el nombre, apellido y edad de la persona y al final pedirle su Whatsapp\n",
        "\n",
        "2.- Implementarlo en Python (en lo posible, realice una función que al invocarla muestre un mensaje *atractivo*)\n",
        "\n",
        "## Solución"
      ]
    },
    {
      "cell_type": "markdown",
      "metadata": {
        "id": "IuGiFk3FJQWd",
        "colab_type": "text"
      },
      "source": [
        "1.- Paso a paso \"Dame tu Whatsapp\"\n",
        "\n",
        "(1) Pedir nombre\n",
        " \n",
        "(2) Pedir Apellido\n",
        " \n",
        "(3) Preguntar edad\n",
        "\n",
        "(4) Mostrar mensaje atractivo\n",
        "\n",
        "(5) FinAlgoritmo\n",
        "\n",
        "2.- Implementación en Python"
      ]
    },
    {
      "cell_type": "code",
      "metadata": {
        "id": "2M7XeC-0JQWe",
        "colab_type": "code",
        "colab": {}
      },
      "source": [
        "def dame_tu_whatsapp():\n",
        "    '''\n",
        "    conocer el nombre, apellido y edad de una persona, para luego \n",
        "    hacer un mensaje usando el nombre, apellido y edad de la persona y al final pedirle su Whatsapp\n",
        "    '''\n",
        "    nombre = input(\"¿Cuál es tú nombre? \")\n",
        "    apellido = input(\"¿Cuál es tu apellido? \")\n",
        "    edad = input(\"¿Y tu edad? \")\n",
        "    mensaje_atractivo = \"Oye \" + nombre +\" \"+ apellido + \" tienes un muy bonito nombre, y además tienes \" + edad + \" creo que podríamos conocernos más, que te parece si ¿me das tu Whatsapp?\"\n",
        "    print(\" \")\n",
        "    print(mensaje_atractivo)"
      ],
      "execution_count": null,
      "outputs": []
    },
    {
      "cell_type": "code",
      "metadata": {
        "scrolled": true,
        "id": "nmdo1d2PJQWh",
        "colab_type": "code",
        "colab": {},
        "outputId": "e828cf73-8c0e-446f-f8e4-7b95a8fc6afc"
      },
      "source": [
        "dame_tu_whatsapp()"
      ],
      "execution_count": null,
      "outputs": [
        {
          "output_type": "stream",
          "text": [
            "¿Cuál es tú nombre? Pipe\n",
            "¿Cuál es tu apellido? San Martín\n",
            "¿Y tu edad? 26\n",
            " \n",
            "Oye Pipe San Martín tienes un muy bonito nombre, y además tienes 26 creo que podríamos conocernos más, que te parece si ¿me das tu Whatsapp?\n"
          ],
          "name": "stdout"
        }
      ]
    },
    {
      "cell_type": "code",
      "metadata": {
        "id": "A_y7o1WaJQWl",
        "colab_type": "code",
        "colab": {}
      },
      "source": [
        ""
      ],
      "execution_count": null,
      "outputs": []
    }
  ]
}