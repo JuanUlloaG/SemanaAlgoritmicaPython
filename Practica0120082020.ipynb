{
  "nbformat": 4,
  "nbformat_minor": 0,
  "metadata": {
    "colab": {
      "name": "Practica0120082020.ipynb",
      "provenance": [],
      "collapsed_sections": [],
      "authorship_tag": "ABX9TyNEhMFnYQvgUOfKVgthKYek",
      "include_colab_link": true
    },
    "kernelspec": {
      "name": "python3",
      "display_name": "Python 3"
    }
  },
  "cells": [
    {
      "cell_type": "markdown",
      "metadata": {
        "id": "view-in-github",
        "colab_type": "text"
      },
      "source": [
        "<a href=\"https://colab.research.google.com/github/JonAbaroa/Semana-Algoritmica-Curso/blob/master/Practica0120082020.ipynb\" target=\"_parent\"><img src=\"https://colab.research.google.com/assets/colab-badge.svg\" alt=\"Open In Colab\"/></a>"
      ]
    },
    {
      "cell_type": "code",
      "metadata": {
        "id": "NlFgMlzEMwlE",
        "colab_type": "code",
        "colab": {
          "base_uri": "https://localhost:8080/",
          "height": 68
        },
        "outputId": "c553e9a5-4bb4-4a9b-bf1a-ec7ca02d35c2"
      },
      "source": [
        "i = 0\n",
        "while i < 3:\n",
        "  print(\"buena shoro\", i)\n",
        "  i = i + 1"
      ],
      "execution_count": 2,
      "outputs": [
        {
          "output_type": "stream",
          "text": [
            "buena shoro 0\n",
            "buena shoro 1\n",
            "buena shoro 2\n"
          ],
          "name": "stdout"
        }
      ]
    },
    {
      "cell_type": "code",
      "metadata": {
        "id": "n9K0vyP-NHNj",
        "colab_type": "code",
        "colab": {
          "base_uri": "https://localhost:8080/",
          "height": 68
        },
        "outputId": "4eb7a1e6-f526-4043-d8a2-53d8e0d529b7"
      },
      "source": [
        "i = 1\n",
        "while i <= 3:\n",
        "  print(\"buena shoro\", i)\n",
        "  i += 1"
      ],
      "execution_count": 3,
      "outputs": [
        {
          "output_type": "stream",
          "text": [
            "buena shoro 1\n",
            "buena shoro 2\n",
            "buena shoro 3\n"
          ],
          "name": "stdout"
        }
      ]
    },
    {
      "cell_type": "code",
      "metadata": {
        "id": "0RejIJo-NVk3",
        "colab_type": "code",
        "colab": {
          "base_uri": "https://localhost:8080/",
          "height": 187
        },
        "outputId": "39b93011-c346-46cc-b2c4-6ddda057798b"
      },
      "source": [
        "suma = 0\n",
        "i = 0\n",
        "while i < 10:\n",
        "  i = i + 1\n",
        "  suma = suma + i\n",
        "  print(i, suma)"
      ],
      "execution_count": 6,
      "outputs": [
        {
          "output_type": "stream",
          "text": [
            "1 1\n",
            "2 3\n",
            "3 6\n",
            "4 10\n",
            "5 15\n",
            "6 21\n",
            "7 28\n",
            "8 36\n",
            "9 45\n",
            "10 55\n"
          ],
          "name": "stdout"
        }
      ]
    },
    {
      "cell_type": "code",
      "metadata": {
        "id": "5hN9IOSqOVHe",
        "colab_type": "code",
        "colab": {
          "base_uri": "https://localhost:8080/",
          "height": 68
        },
        "outputId": "33abc145-8b87-41c3-e252-ef2e83db5586"
      },
      "source": [
        "for i in range(3):\n",
        "  print(\"buena shoro\", i)"
      ],
      "execution_count": 8,
      "outputs": [
        {
          "output_type": "stream",
          "text": [
            "buena shoro 0\n",
            "buena shoro 1\n",
            "buena shoro 2\n"
          ],
          "name": "stdout"
        }
      ]
    },
    {
      "cell_type": "code",
      "metadata": {
        "id": "wGhWSzMVO4ms",
        "colab_type": "code",
        "colab": {}
      },
      "source": [
        ""
      ],
      "execution_count": null,
      "outputs": []
    },
    {
      "cell_type": "code",
      "metadata": {
        "id": "0G1dc1wtO4X_",
        "colab_type": "code",
        "colab": {
          "base_uri": "https://localhost:8080/",
          "height": 170
        },
        "outputId": "6a6761f8-dcf6-4021-8b6a-384f0fa55008"
      },
      "source": [
        "palabra = \"superocho\"\n",
        "for letra in palabra:\n",
        "  print (letra)"
      ],
      "execution_count": 9,
      "outputs": [
        {
          "output_type": "stream",
          "text": [
            "s\n",
            "u\n",
            "p\n",
            "e\n",
            "r\n",
            "o\n",
            "c\n",
            "h\n",
            "o\n"
          ],
          "name": "stdout"
        }
      ]
    },
    {
      "cell_type": "code",
      "metadata": {
        "id": "5qONrTymPK0s",
        "colab_type": "code",
        "colab": {}
      },
      "source": [
        "import string\n",
        "\n",
        "abecedario = string"
      ],
      "execution_count": null,
      "outputs": []
    }
  ]
}