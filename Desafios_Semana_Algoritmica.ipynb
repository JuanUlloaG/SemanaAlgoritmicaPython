{
  "nbformat": 4,
  "nbformat_minor": 0,
  "metadata": {
    "colab": {
      "name": "Desafios_Semana_Algoritmica.ipynb",
      "provenance": [],
      "collapsed_sections": [],
      "history_visible": true,
      "authorship_tag": "ABX9TyOMrZHAVuEMku/MXffRTqDX",
      "include_colab_link": true
    },
    "kernelspec": {
      "name": "python3",
      "display_name": "Python 3"
    }
  },
  "cells": [
    {
      "cell_type": "markdown",
      "metadata": {
        "id": "view-in-github",
        "colab_type": "text"
      },
      "source": [
        "<a href=\"https://colab.research.google.com/github/JonAbaroa/Semana-Algoritmica-Curso/blob/master/Desafios_Semana_Algoritmica.ipynb\" target=\"_parent\"><img src=\"https://colab.research.google.com/assets/colab-badge.svg\" alt=\"Open In Colab\"/></a>"
      ]
    },
    {
      "cell_type": "markdown",
      "metadata": {
        "id": "i2AoPYWVBjoI",
        "colab_type": "text"
      },
      "source": [
        "**Desafios07/08**"
      ]
    },
    {
      "cell_type": "code",
      "metadata": {
        "id": "3QfH4b2mBjeg",
        "colab_type": "code",
        "colab": {
          "base_uri": "https://localhost:8080/",
          "height": 51
        },
        "outputId": "db16fb97-6456-4f56-b554-529ed546b035"
      },
      "source": [
        "numero1 = float(input(\"ingrese el primer numero:\"))\n",
        "numero2 = float(input(\"ingrese el segundo numero:\"))\n"
      ],
      "execution_count": null,
      "outputs": [
        {
          "output_type": "stream",
          "text": [
            "ingrese el primer numero:2\n",
            "ingrese el segundo numero:3\n"
          ],
          "name": "stdout"
        }
      ]
    },
    {
      "cell_type": "code",
      "metadata": {
        "id": "X3Ko0JYCBjXn",
        "colab_type": "code",
        "colab": {
          "base_uri": "https://localhost:8080/",
          "height": 34
        },
        "outputId": "50198fb8-74b2-4b44-9b43-44523403a1ae"
      },
      "source": [
        "suma = numero1+numero2\n",
        "print(\"la suma es\", suma)"
      ],
      "execution_count": null,
      "outputs": [
        {
          "output_type": "stream",
          "text": [
            "la suma es 5.0\n"
          ],
          "name": "stdout"
        }
      ]
    },
    {
      "cell_type": "code",
      "metadata": {
        "id": "OrCdo7I2BjPz",
        "colab_type": "code",
        "colab": {
          "base_uri": "https://localhost:8080/",
          "height": 34
        },
        "outputId": "e052e34e-0057-4f9c-b62c-4872c29f91a7"
      },
      "source": [
        "5*2-3+7-6*2**2"
      ],
      "execution_count": null,
      "outputs": [
        {
          "output_type": "execute_result",
          "data": {
            "text/plain": [
              "-10"
            ]
          },
          "metadata": {
            "tags": []
          },
          "execution_count": 40
        }
      ]
    },
    {
      "cell_type": "code",
      "metadata": {
        "id": "nSFv6edDBjHo",
        "colab_type": "code",
        "colab": {
          "base_uri": "https://localhost:8080/",
          "height": 34
        },
        "outputId": "d37b964b-d634-4a53-d512-7d56c70dfa08"
      },
      "source": [
        "3+4+5-7*5+50"
      ],
      "execution_count": null,
      "outputs": [
        {
          "output_type": "execute_result",
          "data": {
            "text/plain": [
              "27"
            ]
          },
          "metadata": {
            "tags": []
          },
          "execution_count": 41
        }
      ]
    },
    {
      "cell_type": "code",
      "metadata": {
        "id": "wRD9UDt-Bi-6",
        "colab_type": "code",
        "colab": {
          "base_uri": "https://localhost:8080/",
          "height": 35
        },
        "outputId": "25464dab-99c1-4c06-c945-f3653a1a3914"
      },
      "source": [
        "5*\"jamon\""
      ],
      "execution_count": null,
      "outputs": [
        {
          "output_type": "execute_result",
          "data": {
            "application/vnd.google.colaboratory.intrinsic+json": {
              "type": "string"
            },
            "text/plain": [
              "'jamonjamonjamonjamonjamon'"
            ]
          },
          "metadata": {
            "tags": []
          },
          "execution_count": 42
        }
      ]
    },
    {
      "cell_type": "code",
      "metadata": {
        "id": "i_-3q-HKDAq5",
        "colab_type": "code",
        "colab": {
          "base_uri": "https://localhost:8080/",
          "height": 35
        },
        "outputId": "7b1b9717-599e-4345-92ec-efda4750b0c1"
      },
      "source": [
        "\"5\"+\"jamon\""
      ],
      "execution_count": null,
      "outputs": [
        {
          "output_type": "execute_result",
          "data": {
            "application/vnd.google.colaboratory.intrinsic+json": {
              "type": "string"
            },
            "text/plain": [
              "'5jamon'"
            ]
          },
          "metadata": {
            "tags": []
          },
          "execution_count": 43
        }
      ]
    },
    {
      "cell_type": "code",
      "metadata": {
        "id": "GsZG91fNDAiZ",
        "colab_type": "code",
        "colab": {
          "base_uri": "https://localhost:8080/",
          "height": 165
        },
        "outputId": "7b61fb2f-2958-4999-cbfe-5c9f3ba4ecfd"
      },
      "source": [
        "5*jamon"
      ],
      "execution_count": null,
      "outputs": [
        {
          "output_type": "error",
          "ename": "NameError",
          "evalue": "ignored",
          "traceback": [
            "\u001b[0;31m---------------------------------------------------------------------------\u001b[0m",
            "\u001b[0;31mNameError\u001b[0m                                 Traceback (most recent call last)",
            "\u001b[0;32m<ipython-input-44-9efab95b31ff>\u001b[0m in \u001b[0;36m<module>\u001b[0;34m()\u001b[0m\n\u001b[0;32m----> 1\u001b[0;31m \u001b[0;36m5\u001b[0m\u001b[0;34m*\u001b[0m\u001b[0mjamon\u001b[0m\u001b[0;34m\u001b[0m\u001b[0;34m\u001b[0m\u001b[0m\n\u001b[0m",
            "\u001b[0;31mNameError\u001b[0m: name 'jamon' is not defined"
          ]
        }
      ]
    },
    {
      "cell_type": "code",
      "metadata": {
        "id": "uoAB6plsDAam",
        "colab_type": "code",
        "colab": {
          "base_uri": "https://localhost:8080/",
          "height": 165
        },
        "outputId": "ad721428-e49d-44cc-8af3-abd00a4b1e6f"
      },
      "source": [
        "5 + jamon"
      ],
      "execution_count": null,
      "outputs": [
        {
          "output_type": "error",
          "ename": "NameError",
          "evalue": "ignored",
          "traceback": [
            "\u001b[0;31m---------------------------------------------------------------------------\u001b[0m",
            "\u001b[0;31mNameError\u001b[0m                                 Traceback (most recent call last)",
            "\u001b[0;32m<ipython-input-45-8d61447da16c>\u001b[0m in \u001b[0;36m<module>\u001b[0;34m()\u001b[0m\n\u001b[0;32m----> 1\u001b[0;31m \u001b[0;36m5\u001b[0m \u001b[0;34m+\u001b[0m \u001b[0mjamon\u001b[0m\u001b[0;34m\u001b[0m\u001b[0;34m\u001b[0m\u001b[0m\n\u001b[0m",
            "\u001b[0;31mNameError\u001b[0m: name 'jamon' is not defined"
          ]
        }
      ]
    },
    {
      "cell_type": "code",
      "metadata": {
        "id": "nPUIHHoRDASr",
        "colab_type": "code",
        "colab": {}
      },
      "source": [
        ""
      ],
      "execution_count": null,
      "outputs": []
    },
    {
      "cell_type": "code",
      "metadata": {
        "id": "noxJgqXZDAJP",
        "colab_type": "code",
        "colab": {}
      },
      "source": [
        ""
      ],
      "execution_count": null,
      "outputs": []
    },
    {
      "cell_type": "markdown",
      "metadata": {
        "id": "0TDDwaOrAhVP",
        "colab_type": "text"
      },
      "source": [
        "**Desafios08/08**"
      ]
    },
    {
      "cell_type": "code",
      "metadata": {
        "id": "WFivnIW94T5L",
        "colab_type": "code",
        "colab": {
          "base_uri": "https://localhost:8080/",
          "height": 34
        },
        "outputId": "2dfbf61c-bcd7-4930-872d-3c7ac5d854dc"
      },
      "source": [
        "1+2"
      ],
      "execution_count": null,
      "outputs": [
        {
          "output_type": "execute_result",
          "data": {
            "text/plain": [
              "3"
            ]
          },
          "metadata": {
            "tags": []
          },
          "execution_count": 3
        }
      ]
    },
    {
      "cell_type": "code",
      "metadata": {
        "id": "_guulVya4t4w",
        "colab_type": "code",
        "colab": {
          "base_uri": "https://localhost:8080/",
          "height": 34
        },
        "outputId": "2b6c47d9-d180-4d5f-f8f5-a96bb9e67365"
      },
      "source": [
        "1-2"
      ],
      "execution_count": null,
      "outputs": [
        {
          "output_type": "execute_result",
          "data": {
            "text/plain": [
              "-1"
            ]
          },
          "metadata": {
            "tags": []
          },
          "execution_count": 4
        }
      ]
    },
    {
      "cell_type": "code",
      "metadata": {
        "id": "CfMCA2qI4wQ4",
        "colab_type": "code",
        "colab": {
          "base_uri": "https://localhost:8080/",
          "height": 34
        },
        "outputId": "b21d75cc-500a-4dc8-96b1-c3d0cdd7e04a"
      },
      "source": [
        "1/2"
      ],
      "execution_count": null,
      "outputs": [
        {
          "output_type": "execute_result",
          "data": {
            "text/plain": [
              "0.5"
            ]
          },
          "metadata": {
            "tags": []
          },
          "execution_count": 5
        }
      ]
    },
    {
      "cell_type": "code",
      "metadata": {
        "id": "C2AGkI4N4xyI",
        "colab_type": "code",
        "colab": {
          "base_uri": "https://localhost:8080/",
          "height": 34
        },
        "outputId": "6a57254d-0c91-47dc-ea34-87209aa3489b"
      },
      "source": [
        "1*2"
      ],
      "execution_count": null,
      "outputs": [
        {
          "output_type": "execute_result",
          "data": {
            "text/plain": [
              "2"
            ]
          },
          "metadata": {
            "tags": []
          },
          "execution_count": 6
        }
      ]
    },
    {
      "cell_type": "code",
      "metadata": {
        "id": "NMFkOqPt48Fg",
        "colab_type": "code",
        "colab": {
          "base_uri": "https://localhost:8080/",
          "height": 255
        },
        "outputId": "aac240ac-2811-4977-a008-a356f6d68eb0"
      },
      "source": [
        "print(\"suma\")\n",
        "print(\"1 + 2\")\n",
        "\n",
        "print(\"resta\")\n",
        "print(\"1 - 2\")\n",
        "\n",
        "print(\"multiplicacion\")\n",
        "print(\"1 * 2\")\n",
        "\n",
        "print(\"exponente\")\n",
        "print(\"1 ** 2\")\n",
        "\n",
        "print(\"division\")\n",
        "print(\"1 / 2\")\n",
        "\n",
        "print(\"divisionentera\")\n",
        "print(\"1 // 2\")\n",
        "\n",
        "print(\"modulo\")\n",
        "print(\"1 % 2\")\n"
      ],
      "execution_count": null,
      "outputs": [
        {
          "output_type": "stream",
          "text": [
            "suma\n",
            "1 + 2\n",
            "resta\n",
            "1 - 2\n",
            "multiplicacion\n",
            "1 * 2\n",
            "exponente\n",
            "1 ** 2\n",
            "division\n",
            "1 / 2\n",
            "divisionentera\n",
            "1 // 2\n",
            "modulo\n",
            "1 % 2\n"
          ],
          "name": "stdout"
        }
      ]
    },
    {
      "cell_type": "code",
      "metadata": {
        "id": "41q6rK5x7f_S",
        "colab_type": "code",
        "colab": {
          "base_uri": "https://localhost:8080/",
          "height": 51
        },
        "outputId": "2e05aba7-062a-4412-f90b-27bcd13cc0ae"
      },
      "source": [
        "numero1 = float(input(\"ingrese el primer numero:\"))\n",
        "numero2 = float(input(\"ingrese el segundo numero:\"))"
      ],
      "execution_count": null,
      "outputs": [
        {
          "output_type": "stream",
          "text": [
            "ingrese el primer numero:1\n",
            "ingrese el segundo numero:2\n"
          ],
          "name": "stdout"
        }
      ]
    },
    {
      "cell_type": "code",
      "metadata": {
        "id": "0b_T7M8c8Dq5",
        "colab_type": "code",
        "colab": {}
      },
      "source": [
        "suma = numero1+numero2\n",
        "resta = numero1-numero2\n",
        "multiplicacion = numero1 * numero2\n",
        "exponente = numero1 ** numero2\n",
        "division = numero1 / numero2\n",
        "divisionentera = numero1//numero2\n",
        "modulo = numero1 % numero2"
      ],
      "execution_count": null,
      "outputs": []
    },
    {
      "cell_type": "code",
      "metadata": {
        "id": "r8J5dhOA8t2c",
        "colab_type": "code",
        "colab": {
          "base_uri": "https://localhost:8080/",
          "height": 34
        },
        "outputId": "4db86c8f-3b84-4e19-8eb1-0cf7ed3783d3"
      },
      "source": [
        "print(\"la suma es\", suma)"
      ],
      "execution_count": null,
      "outputs": [
        {
          "output_type": "stream",
          "text": [
            "la suma es 3.0\n"
          ],
          "name": "stdout"
        }
      ]
    },
    {
      "cell_type": "code",
      "metadata": {
        "id": "U6Ja9DRI83rn",
        "colab_type": "code",
        "colab": {
          "base_uri": "https://localhost:8080/",
          "height": 136
        },
        "outputId": "7b4104b8-4209-4efa-be9a-1e1e77dc76ea"
      },
      "source": [
        "print(\"la suma es\", suma)\n",
        "print(\"la resta es\", resta)\n",
        "print(\"la multiplicacion es\", multiplicacion)\n",
        "print(\"el exponente es\", exponente)\n",
        "print(\"la division es\", division)\n",
        "print(\"la divisionentera es\", divisionentera)\n",
        "print(\"el modulo es\", modulo)"
      ],
      "execution_count": null,
      "outputs": [
        {
          "output_type": "stream",
          "text": [
            "la suma es 3.0\n",
            "la resta es -1.0\n",
            "la multiplicacion es 2.0\n",
            "el exponente es 1.0\n",
            "la division es 0.5\n",
            "la divisionentera es 0.0\n",
            "el modulo es 1.0\n"
          ],
          "name": "stdout"
        }
      ]
    },
    {
      "cell_type": "code",
      "metadata": {
        "id": "UHC6H-cs-gZx",
        "colab_type": "code",
        "colab": {}
      },
      "source": [
        "suma = numero1+numero2\n",
        "resta = numero1-numero2\n",
        "multiplicacion = numero1 * numero2"
      ],
      "execution_count": null,
      "outputs": []
    },
    {
      "cell_type": "code",
      "metadata": {
        "id": "5pk0QZiV_BS-",
        "colab_type": "code",
        "colab": {}
      },
      "source": [
        "exponente = numero1 ** numero2\n",
        "division = numero1 / numero2\n",
        "divisionentera = numero1//numero2\n",
        "modulo = numero1 % numero2"
      ],
      "execution_count": null,
      "outputs": []
    },
    {
      "cell_type": "markdown",
      "metadata": {
        "id": "PNDnd31YAqMB",
        "colab_type": "text"
      },
      "source": [
        "**Desafios09/08**"
      ]
    },
    {
      "cell_type": "code",
      "metadata": {
        "id": "scBJlUCFAsYp",
        "colab_type": "code",
        "colab": {}
      },
      "source": [
        ""
      ],
      "execution_count": null,
      "outputs": []
    }
  ]
}